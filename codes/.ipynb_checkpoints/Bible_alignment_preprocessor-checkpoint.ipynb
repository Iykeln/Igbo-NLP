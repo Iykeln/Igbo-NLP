{
 "cells": [
  {
   "cell_type": "code",
   "execution_count": null,
   "id": "b998e7cd",
   "metadata": {},
   "outputs": [],
   "source": [
    "import glob,re\n",
    "from collections import defaultdict"
   ]
  },
  {
   "cell_type": "code",
   "execution_count": null,
   "id": "1a950eae",
   "metadata": {},
   "outputs": [],
   "source": [
    "Bible_files = glob.glob(\"/home/sammy/Desktop/My_Researches/Preprocess_data/Igbo-NLP/Bible_Data_Set/*.txt\")\n",
    "Bible_files"
   ]
  },
  {
   "cell_type": "code",
   "execution_count": null,
   "id": "a119af47",
   "metadata": {},
   "outputs": [],
   "source": [
    "Bible_lang_versions = defaultdict(list)\n",
    "for fn in Bible_files:\n",
    "    name = re.split(\"[/.]\",fn)[-2]\n",
    "    Bible_ = [line.strip() for line in open(fn).readlines()]\n",
    "    Bible_lang_versions[name].append(Bible_)"
   ]
  },
  {
   "cell_type": "code",
   "execution_count": null,
   "id": "f6ebba8d",
   "metadata": {},
   "outputs": [],
   "source": [
    "for k,v in Bible_lang_versions.items():\n",
    "    print(\"Bible languae name: \",k,\"\\n\")\n",
    "    print(len(v[0]))"
   ]
  },
  {
   "cell_type": "code",
   "execution_count": null,
   "id": "3ea745e4",
   "metadata": {},
   "outputs": [],
   "source": [
    "NWT_Bible_Eng = [line.strip() for line in open(Bible_files[4]).readlines()]\n",
    "NWT_Bible_Fre = [line.strip() for line in open(Bible_files[0]).readlines()]\n",
    "NWT_Bible_Danish = [line.strip() for line in open(Bible_files[1]).readlines()]\n",
    "NWT_Bible_Igbo = [line.strip() for line in open(Bible_files[2]).readlines()]\n",
    "NWT_Bible_Ger = [line.strip() for line in open(Bible_files[3]).readlines()]"
   ]
  },
  {
   "cell_type": "code",
   "execution_count": null,
   "id": "9078cdc7",
   "metadata": {},
   "outputs": [],
   "source": [
    "n = len(NWT_Bible_Eng)\n",
    "for i in range(n):\n",
    "    en_line = NWT_Bible_Eng[i]\n",
    "    fr_line = NWT_Bible_Fre[i]\n",
    "    ig_line = NWT_Bible_Igbo[i]\n",
    "    ger_line = NWT_Bible_Ger[i]\n",
    "    dan_line = NWT_Bible_Danish[i]\n",
    "    print(\"Line No: \", i+1 , \"\\n\", \"Eng: \", en_line, \"\\n\", \"Fre: \", fr_line, \"\\n\", \"Igbo: \", ig_line, \"\\n\", \"Ger: \", ger_line, \"\\n\", \"Danish: \", dan_line,\"\\n\\n==========\")"
   ]
  },
  {
   "cell_type": "code",
   "execution_count": null,
   "id": "8ba86aef",
   "metadata": {},
   "outputs": [],
   "source": []
  }
 ],
 "metadata": {
  "kernelspec": {
   "display_name": "Python 3 (ipykernel)",
   "language": "python",
   "name": "python3"
  },
  "language_info": {
   "codemirror_mode": {
    "name": "ipython",
    "version": 3
   },
   "file_extension": ".py",
   "mimetype": "text/x-python",
   "name": "python",
   "nbconvert_exporter": "python",
   "pygments_lexer": "ipython3",
   "version": "3.9.7"
  }
 },
 "nbformat": 4,
 "nbformat_minor": 5
}
